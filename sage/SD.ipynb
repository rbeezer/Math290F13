{
"metadata": {"name": "Demo: Section SD"},
"nbformat": 3, "nbformat_minor": 0,
"worksheets": [{"cells": [
{"cell_type": "heading", "level": 1, "metadata": {}, "source": ["Demo: Section SD"]},
{"cell_type": "code", "collapsed": false, "input": ["%load_ext sage.misc.sage_extension"], "language": "python", "metadata": {}, "outputs": [], "prompt_number": 0},
{"cell_type": "markdown", "metadata": {}, "source": [
"Robert Beezer",
"\n",
"Math 290, Fall 2013\n", "November 3, 2013"
]},
{"cell_type": "heading", "level": 2, "metadata": {}, "source": ["Similarity"]},
{"cell_type": "markdown", "metadata": {}, "source": [
"We manufacture two matrices that are similar, and use Sage to check.  A \"unimodular\" matrix is one with determinant 1.  A unimodular matrix with integer entries will have an inverse with integer entries (that is a theorem)."
]},
{"cell_type": "code", "collapsed": false, "input": ["A = random_matrix(ZZ, 10, x = -9, y = 9).change_ring(QQ)\nS = random_matrix(QQ, 10, algorithm='unimodular', upper_bound=9)\nB = S.inverse()*A*S\nA, B\n"],
"language": "python", "metadata": {}, "outputs": [], "prompt_number": 1},
{"cell_type": "markdown", "metadata": {}, "source": [
"This command seems to be broken.  My fault."
]},
{"cell_type": "code", "collapsed": false, "input": ["A.is_similar(B)\n"],
"language": "python", "metadata": {}, "outputs": [], "prompt_number": 2},
{"cell_type": "heading", "level": 2, "metadata": {}, "source": ["Diagonalization"]},
{"cell_type": "markdown", "metadata": {}, "source": [
"These two matrices are from the earlier demo for Section EE.  First is diagonalizable, second is not.  The easiest way to see the difference is with the `eigenmatrix` commands."
]},
{"cell_type": "code", "collapsed": false, "input": ["entries = [[-31, -23, -16, 12, 120, -17], [-3, 7, 0, -12, 60, -21], [-28, -14, -9,\n-4, 152, -30], [-36, -20, -16, -1, 192, -32], [-9, -5, -4, 0, 47, -8],\n[-1, 1, 0, -4, 20, -3]]\nA = matrix(QQ, entries)\nA\n"],
"language": "python", "metadata": {}, "outputs": [], "prompt_number": 1},
{"cell_type": "markdown", "metadata": {}, "source": [
"`S`, the matrix whose columns are eigenvectors, will \"diagonalize\" `A`."
]},
{"cell_type": "code", "collapsed": false, "input": ["D, S = A.eigenmatrix_right()\nD, S\n"],
"language": "python", "metadata": {}, "outputs": [], "prompt_number": 2},
{"cell_type": "code", "collapsed": false, "input": ["S.inverse()*A*S == D\n"],
"language": "python", "metadata": {}, "outputs": [], "prompt_number": 3},
{"cell_type": "markdown", "metadata": {}, "source": [
"Here is an equivalent formulation."
]},
{"cell_type": "code", "collapsed": false, "input": ["A*S == S*D\n"],
"language": "python", "metadata": {}, "outputs": [], "prompt_number": 4},
{"cell_type": "markdown", "metadata": {}, "source": [
"Now, in contrast, a matrix that is not diagonalizable."
]},
{"cell_type": "code", "collapsed": false, "input": ["entries = [[128, 20, 44, -50, 236, -18, -330, -565], [-23, -16, -5, 6, -40, 27, 62, 128], [-44, -12, -15, 16, -78, 20, 110, 207], [-2, 10, -4, 3, -10, -23, 20, -9], [-61, 5, -25, 27, -116, -26, 153, 225], [-12, -12, -1, 2, -20, 24, 34, 82], [-23, -3, -8, 9, -42, 2, 57, 99], [13, 6, 3, -4, 23, -12, -35, -72]]\nC = matrix(QQ, entries)\nC\n"],
"language": "python", "metadata": {}, "outputs": [], "prompt_number": 5},
{"cell_type": "code", "collapsed": false, "input": ["D, S = C.eigenmatrix_right()\nD, S\n"],
"language": "python", "metadata": {}, "outputs": [], "prompt_number": 6},
{"cell_type": "markdown", "metadata": {}, "source": [
"The zero columns in `S` tell us that at least one eigenvalue has a geometric multiplicity strictly less than the algebraic multiplicity of the eigenvalue.  So by Theorem DMFE the matrix `C` is not diagonalizable."
]},
{"cell_type": "markdown", "metadata": {}, "source": [
"A second consequence of the zero columns of `S` is that it will not be an invertible matrix.  But the output from Sage still obeys a fundamental relationship."
]},
{"cell_type": "code", "collapsed": false, "input": ["C*S == S*D\n"],
"language": "python", "metadata": {}, "outputs": [], "prompt_number": 7},
{"cell_type": "markdown", "metadata": {}, "source": [
"Perhaps simpler is the built-in function `.is_diagonalizable()`."
]},
{"cell_type": "code", "collapsed": false, "input": ["A.is_diagonalizable()\n"],
"language": "python", "metadata": {}, "outputs": [], "prompt_number": 8},
{"cell_type": "code", "collapsed": false, "input": ["C.is_diagonalizable()\n"],
"language": "python", "metadata": {}, "outputs": [], "prompt_number": 9},
{"cell_type": "heading", "level": 2, "metadata": {}, "source": ["Nearly Diagonalizable"]},
{"cell_type": "markdown", "metadata": {}, "source": [
"A matrix that is not diagonalizable will always be similar to a matrix that is \textbf{almost} diagonalizable.  The \"nearly diagonal\" matrix is called the Jordan Canonical Form of the matrix.  While beyond the scope of this course, here is Sage computing this canonical form for the matrix `C`.  Notice the eigenvalues of `C` on the diagonal and the 1's on the \"super-diagonal\"."
]},
{"cell_type": "code", "collapsed": false, "input": ["J, T = C.jordan_form(transformation=True)\nJ, T\n"],
"language": "python", "metadata": {}, "outputs": [], "prompt_number": 1},
{"cell_type": "markdown", "metadata": {}, "source": [
"The transformation matrix, `T`, is invertible and will \"almost diagonalize\" `C`."
]},
{"cell_type": "code", "collapsed": false, "input": ["T.inverse()*C*T == J\n"],
"language": "python", "metadata": {}, "outputs": [], "prompt_number": 2},
{"cell_type": "markdown", "metadata": {}, "source": [
"Rational Canonical Form is another interesting version of this idea, try `.rational_form()` on `C`.  And if you do, then execute the following two cells and see if the coefficients look familiar.  (Learn more about \"companion matrices\" if this makes you curious."
]},
{"cell_type": "code", "collapsed": false, "input": ["C.rational_form()\n"],
"language": "python", "metadata": {}, "outputs": [], "prompt_number": 3},
{"cell_type": "code", "collapsed": false, "input": ["C.fcp()\n"],
"language": "python", "metadata": {}, "outputs": [], "prompt_number": 4},
{"cell_type": "code", "collapsed": false, "input": ["((x-1)^3*(x+2)^3).expand()\n"],
"language": "python", "metadata": {}, "outputs": [], "prompt_number": 5}],
"metadata": {}
}]}
