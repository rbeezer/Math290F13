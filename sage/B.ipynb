{
"metadata": {"name": "Demo: Section B"},
"nbformat": 3, "nbformat_minor": 0,
"worksheets": [{"cells": [
{"cell_type": "heading", "level": 1, "metadata": {}, "source": ["Demo: Section B"]},
{"cell_type": "code", "collapsed": false, "input": ["%load_ext sage.misc.sage_extension"], "language": "python", "metadata": {}, "outputs": [], "prompt_number": 0},
{"cell_type": "markdown", "metadata": {}, "source": [
"###Robert Beezer",
"****\n",
"**Math 290, Fall 2013\n", "October 22, 2013**"
]},
{"cell_type": "heading", "level": 2, "metadata": {}, "source": ["Bases"]},
{"cell_type": "markdown", "metadata": {}, "source": [
"You need to run the cell above to make Sage commands available in an iPython notebook."
]},
{"cell_type": "markdown", "metadata": {}, "source": [
"Five \"random\" vectors, each with 4 entries into a set `S`."
]},
{"cell_type": "code", "collapsed": false, "input": ["v1 = vector(QQ, [-4, -2, 3, -11])\nv2 = vector(QQ, [-2, 7, 3, 9])\nv3 = vector(QQ, [6, -4, -7, 5])\nv4 = vector(QQ, [-1, 0, 3, -4])\nv5 = vector(QQ, [-4, 5, -5, 11])\nS = [v1, v2, v3, v4, v5]"],
"language": "python", "metadata": {}, "outputs": [], "prompt_number": 1},
{"cell_type": "markdown", "metadata": {}, "source": [
"Consider the subspace spanned by these five vectors.  We will make these vectors the rows of a matrix and row-reduce to see a basis for the space (subspace, or row space, take your pick)."
]},
{"cell_type": "code", "collapsed": false, "input": ["A = matrix(S)\nA"],
"language": "python", "metadata": {}, "outputs": [], "prompt_number": 2},
{"cell_type": "code", "collapsed": false, "input": ["A.rref()"],
"language": "python", "metadata": {}, "outputs": [], "prompt_number": 3},
{"cell_type": "markdown", "metadata": {}, "source": [
"Sage does this semi-automatically."
]},
{"cell_type": "code", "collapsed": false, "input": ["W = span(S)\nB = W.basis()\nB"],
"language": "python", "metadata": {}, "outputs": [], "prompt_number": 4},
{"cell_type": "markdown", "metadata": {}, "source": [
"Construct a \"random\" vector in this subspace."
]},
{"cell_type": "code", "collapsed": false, "input": ["w = 5*v1 - 6*v2 + 3*v3 -4*v4 + v5\nw"],
"language": "python", "metadata": {}, "outputs": [], "prompt_number": 5},
{"cell_type": "markdown", "metadata": {}, "source": [
"Quick check?"
]},
{"cell_type": "code", "collapsed": false, "input": ["w in W"],
"language": "python", "metadata": {}, "outputs": [], "prompt_number": 6},
{"cell_type": "markdown", "metadata": {}, "source": [
"This vector (or any other linear combination of the five vectors) should be a (unique) linear combination of the three basis vectors.Can you construct the correct linear combination from the three basis vectors?"
]},
{"cell_type": "code", "collapsed": false, "input": ["*B[0] + *B[1] + *B[2]"],
"language": "python", "metadata": {}, "outputs": [], "prompt_number": 7},
{"cell_type": "heading", "level": 2, "metadata": {}, "source": ["Nonsingular Matrices"]},
{"cell_type": "code", "collapsed": false, "input": ["entries = [[1, 1, 1, -1, -2, 4, 2, -3, 1, -6],\n[-2, -1, -2, 2, 4, -7, -4, 5, -1, 7],\n[1, -1, 2, -2, -5, 8, 5, -3, 4, -4],\n[-1, -2, 0, 1, 0, -5, 0, -3, -5, 6],\n[0, -2, 1, -1, -2, 3, 2, 3, 3, 7],\n[1, 0, 1, -1, -2, 4, 2, 0, 2, 0],\n[-1, 0, -1, 1, 3, -1, -2, 7, 5, 1],\n[1, 1, 1, -1, -2, 8, 3, 2, 8, -6],\n[0, 2, -1, 1, 2, -1, -2, 2, 2, -6],\n[1, 3, 0, 0, 1, 3, 0, 0, 3, -8]]\nM = matrix(QQ, entries)\nM"],
"language": "python", "metadata": {}, "outputs": [], "prompt_number": 1},
{"cell_type": "code", "collapsed": false, "input": ["not M.is_singular()"],
"language": "python", "metadata": {}, "outputs": [], "prompt_number": 2},
{"cell_type": "markdown", "metadata": {}, "source": [
"A totally random vector with 10 entries:"
]},
{"cell_type": "code", "collapsed": false, "input": ["v = random_vector(ZZ, 10, x=-9, y=9)\nv"],
"language": "python", "metadata": {}, "outputs": [], "prompt_number": 3},
{"cell_type": "markdown", "metadata": {}, "source": [
"The columns of the matrix are a basis of $\\mathbb{C}^{10}$.  So the vector `v` should be a linear combination of the columns of the matrix."
]},
{"cell_type": "markdown", "metadata": {}, "source": [
"First, the old-fashioned way, exposing Theorem NMUS."
]},
{"cell_type": "code", "collapsed": false, "input": ["aug = M.augment(v)\naug.rref()"],
"language": "python", "metadata": {}, "outputs": [], "prompt_number": 4},
{"cell_type": "markdown", "metadata": {}, "source": [
"Second, with an inverse, since a nonsingular matrix is invertible, exposing Theorem SNCM."
]},
{"cell_type": "code", "collapsed": false, "input": ["M.inverse()*v"],
"language": "python", "metadata": {}, "outputs": [], "prompt_number": 5},
{"cell_type": "markdown", "metadata": {}, "source": [
"The Sage way. Create a space with a \"user basis\" and ask for a coordinatization, exposing Theorem VRRB."
]},
{"cell_type": "code", "collapsed": false, "input": ["X = (QQ^10).subspace_with_basis(M.columns())\nX.coordinates(v)"],
"language": "python", "metadata": {}, "outputs": [], "prompt_number": 6},
{"cell_type": "heading", "level": 2, "metadata": {}, "source": ["Orthonormal Bases"]},
{"cell_type": "markdown", "metadata": {}, "source": [
"A particularly simple orthonormal basis of $\\mathbb{C}^3$ into the set `S`."
]},
{"cell_type": "code", "collapsed": false, "input": ["v1 = vector(QQ, [1/3, 2/3, 2/3])\nv2 = vector(QQ, [2/3, -2/3, 1/3])\nv3 = vector(QQ, [2/3, 1/3, -2/3])\nS = [v1, v2, v3]"],
"language": "python", "metadata": {}, "outputs": [], "prompt_number": 1},
{"cell_type": "markdown", "metadata": {}, "source": [
"If these vectors are an orthonormal basis, then as the columns of a matrix they should create an orthonormal basis."
]},
{"cell_type": "code", "collapsed": false, "input": ["Q = column_matrix(S)\nQ"],
"language": "python", "metadata": {}, "outputs": [], "prompt_number": 2},
{"cell_type": "code", "collapsed": false, "input": ["Q.conjugate_transpose()*Q"],
"language": "python", "metadata": {}, "outputs": [], "prompt_number": 3},
{"cell_type": "code", "collapsed": false, "input": ["Q.is_unitary()"],
"language": "python", "metadata": {}, "outputs": [], "prompt_number": 4},
{"cell_type": "markdown", "metadata": {}, "source": [
"A totally random vector with 3 entries."
]},
{"cell_type": "code", "collapsed": false, "input": ["v = random_vector(ZZ, 3, x=-9, y=9)\nv"],
"language": "python", "metadata": {}, "outputs": [], "prompt_number": 5},
{"cell_type": "markdown", "metadata": {}, "source": [
"Four ways to express `c` as a (unique) linear combination of the basis vectors.  Which is most efficient?"
]},
{"cell_type": "markdown", "metadata": {}, "source": [
"First, the old-fashioned way, exposing Theorem NMUS."
]},
{"cell_type": "code", "collapsed": false, "input": ["aug = Q.augment(v)\naug.rref()"],
"language": "python", "metadata": {}, "outputs": [], "prompt_number": 6},
{"cell_type": "markdown", "metadata": {}, "source": [
"Second, with an inverse, since a nonsingular matrix is invertible, exposing Theorem SNCM."
]},
{"cell_type": "code", "collapsed": false, "input": ["Q.inverse()*v"],
"language": "python", "metadata": {}, "outputs": [], "prompt_number": 7},
{"cell_type": "markdown", "metadata": {}, "source": [
"The Sage way. Create a space with a \"user basis\" and ask for a coordinatization, exposing Theorem VRRB."
]},
{"cell_type": "code", "collapsed": false, "input": ["X = (QQ^3).subspace_with_basis(Q.columns())\nX.coordinates(v)"],
"language": "python", "metadata": {}, "outputs": [], "prompt_number": 8},
{"cell_type": "markdown", "metadata": {}, "source": [
"Finally, exploiting the orthonormal basis."
]},
{"cell_type": "code", "collapsed": false, "input": ["a1 = v1.hermitian_inner_product(v)\na2 = v2.hermitian_inner_product(v)\na3 = v3.hermitian_inner_product(v)\na1, a2, a3"],
"language": "python", "metadata": {}, "outputs": [], "prompt_number": 9}],
"metadata": {}
}]}
