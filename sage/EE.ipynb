{
"metadata": {"name": "Demo: Section EE"},
"nbformat": 3, "nbformat_minor": 0,
"worksheets": [{"cells": [
{"cell_type": "heading", "level": 1, "metadata": {}, "source": ["Demo: Section EE"]},
{"cell_type": "code", "collapsed": false, "input": ["%load_ext sage.misc.sage_extension"], "language": "python", "metadata": {}, "outputs": [], "prompt_number": 0},
{"cell_type": "markdown", "metadata": {}, "source": [
"Robert Beezer",
"\n",
"Math 290, Fall 2013\n", "November 3, 2013"
]},
{"cell_type": "heading", "level": 2, "metadata": {}, "source": ["Eigenvalues and Eigenvectors"]},
{"cell_type": "markdown", "metadata": {}, "source": [
"A $6\\times 6$ matrix with nice eigenvalues."
]},
{"cell_type": "code", "collapsed": false, "input": ["entries = [[-31, -23, -16, 12, 120, -17], [-3, 7, 0, -12, 60, -21], [-28, -14, -9,\n-4, 152, -30], [-36, -20, -16, -1, 192, -32], [-9, -5, -4, 0, 47, -8],\n[-1, 1, 0, -4, 20, -3]]\nA = matrix(QQ, entries)\nA\n"],
"language": "python", "metadata": {}, "outputs": [], "prompt_number": 1},
{"cell_type": "code", "collapsed": false, "input": ["p = A.characteristic_polynomial()\np\n"],
"language": "python", "metadata": {}, "outputs": [], "prompt_number": 2},
{"cell_type": "code", "collapsed": false, "input": ["p.factor()\n"],
"language": "python", "metadata": {}, "outputs": [], "prompt_number": 3},
{"cell_type": "markdown", "metadata": {}, "source": [
"Eigenvalues are the roots of the characteristic polynomial (Theorem EMRCP), which should be obvious from the factored version, including their (algebraic) multiplicities.  Of course, it can be very easy to get these in Sage."
]},
{"cell_type": "code", "collapsed": false, "input": ["A.eigenvalues()\n"],
"language": "python", "metadata": {}, "outputs": [], "prompt_number": 4},
{"cell_type": "markdown", "metadata": {}, "source": [
"We can create the singular matrices $A-\\lambda I_6$ for each eigenvalue (we will choose to do two with \"random\" choices for the eigenvalue).   Row-reducing these matrices will exhibit their nonzero nullity."
]},
{"cell_type": "code", "collapsed": false, "input": ["(A-( )*identity_matrix(6)).rref()\n"],
"language": "python", "metadata": {}, "outputs": [], "prompt_number": 5},
{"cell_type": "code", "collapsed": false, "input": ["(A-( )*identity_matrix(6)).rref()\n"],
"language": "python", "metadata": {}, "outputs": [], "prompt_number": 6},
{"cell_type": "markdown", "metadata": {}, "source": [
"We now examine the eigenspace for the eigenvalue $\\lambda=3$, using Sage's right kernel command and the pivot basis."
]},
{"cell_type": "code", "collapsed": false, "input": ["E6 = (A-3*identity_matrix(6)).right_kernel(basis='pivot')\nE6\n"],
"language": "python", "metadata": {}, "outputs": [], "prompt_number": 7},
{"cell_type": "markdown", "metadata": {}, "source": [
"A basis for the eigenspace will allow us to create eigenvectors of `A` for the eigenvalue $\\lambda=3$ at will."
]},
{"cell_type": "code", "collapsed": false, "input": ["B = E6.basis()\nB\n"],
"language": "python", "metadata": {}, "outputs": [], "prompt_number": 8},
{"cell_type": "markdown", "metadata": {}, "source": [
"An arbitrary linear combination of the basis vectors of the eigenspace:"
]},
{"cell_type": "code", "collapsed": false, "input": ["v = *B[0] + *B[1]\nv\n"],
"language": "python", "metadata": {}, "outputs": [], "prompt_number": 9},
{"cell_type": "markdown", "metadata": {}, "source": [
"We can check this.  Compare $Av$ with $3v$."
]},
{"cell_type": "code", "collapsed": false, "input": ["A*v\n"],
"language": "python", "metadata": {}, "outputs": [], "prompt_number": 10},
{"cell_type": "code", "collapsed": false, "input": ["3*v\n"],
"language": "python", "metadata": {}, "outputs": [], "prompt_number": 11},
{"cell_type": "markdown", "metadata": {}, "source": [
"Here's an easy check:"
]},
{"cell_type": "code", "collapsed": false, "input": ["A*v - 3*v\n"],
"language": "python", "metadata": {}, "outputs": [], "prompt_number": 12},
{"cell_type": "markdown", "metadata": {}, "source": [
"Can you make more eigenvectors?"
]},
{"cell_type": "heading", "level": 2, "metadata": {}, "source": ["Eigenspaces, Eigenmatrices"]},
{"cell_type": "markdown", "metadata": {}, "source": [
"Continuing with `A` from above, we can get eigen-stuff quickly from Sage, once we understand what is really happening (according to the definitions)."
]},
{"cell_type": "markdown", "metadata": {}, "source": [
"As always we want the \"right\" versions of the relevant commands.  Eigenspaces are in the second parts of pairs, where the first part of each pair is the eigenvalue.  Notice that they are vector spaces (with bases, etc).  The basis vectors are Sage's version of a basis, with vectors from an echelonized matrix, typically with lots of zeros and ones in the first part of the vectors."
]},
{"cell_type": "code", "collapsed": false, "input": ["A.eigenspaces_right()\n"],
"language": "python", "metadata": {}, "outputs": [], "prompt_number": 1},
{"cell_type": "markdown", "metadata": {}, "source": [
"The `eigenmatrix` commands return pair of matrices.  The first is a diagonal matrix with the eigenvalues on the diagonal.  The second is a square matrix with linearly independent eigenvectors in the columns, and the order of the eigenvectors is the same as the order of the eigenvalues.  That is, the eigenvector in column `i` of the second matrix is a basis vector for the eigenspace of the eigenvalue in column `i` of the first matrix."
]},
{"cell_type": "code", "collapsed": false, "input": ["A.eigenmatrix_right()\n"],
"language": "python", "metadata": {}, "outputs": [], "prompt_number": 2},
{"cell_type": "markdown", "metadata": {}, "source": [
"Sometimes the dimension of an eigenspace (the geometric multiplicity) is strictly less than the number of times the eigenvalue appears as a root of the characteristic polynomial.  This is the case with `C` next, but was not the case with `A` above."
]},
{"cell_type": "code", "collapsed": false, "input": ["entries = [[128, 20, 44, -50, 236, -18, -330, -565], [-23, -16, -5, 6, -40, 27, 62, 128], [-44, -12, -15, 16, -78, 20, 110, 207], [-2, 10, -4, 3, -10, -23, 20, -9], [-61, 5, -25, 27, -116, -26, 153, 225], [-12, -12, -1, 2, -20, 24, 34, 82], [-23, -3, -8, 9, -42, 2, 57, 99], [13, 6, 3, -4, 23, -12, -35, -72]]\nC = matrix(QQ, entries)\nC\n"],
"language": "python", "metadata": {}, "outputs": [], "prompt_number": 3},
{"cell_type": "code", "collapsed": false, "input": ["C.eigenmatrix_right()\n"],
"language": "python", "metadata": {}, "outputs": [], "prompt_number": 4},
{"cell_type": "heading", "level": 2, "metadata": {}, "source": ["Fancy Footwork"]},
{"cell_type": "markdown", "metadata": {}, "source": [
"A totally random matrix is unlikely to have a characteristic polynomial that factors if we restict ourseves to the rationals.  But we can find all the roots over $\\overline{Q}$, the set of all algebraic numbers."
]},
{"cell_type": "code", "collapsed": false, "input": ["D = random_matrix(QQ, 10)\nD\n"],
"language": "python", "metadata": {}, "outputs": [], "prompt_number": 1},
{"cell_type": "code", "collapsed": false, "input": ["p = D.characteristic_polynomial()\np.factor()\n"],
"language": "python", "metadata": {}, "outputs": [], "prompt_number": 2},
{"cell_type": "code", "collapsed": false, "input": ["p.roots(ring=QQbar, multiplicities=False)\n"],
"language": "python", "metadata": {}, "outputs": [], "prompt_number": 3},
{"cell_type": "markdown", "metadata": {}, "source": [
"If we make a \"block diagonal\" matrix, then the characteristic polynomial will definitely factor some"
]},
{"cell_type": "code", "collapsed": false, "input": ["E = block_diagonal_matrix( [random_matrix(QQ, 5), random_matrix(QQ, 5)])\nE\n"],
"language": "python", "metadata": {}, "outputs": [], "prompt_number": 4},
{"cell_type": "markdown", "metadata": {}, "source": [
"`.fcp()` is Sage shorthand for the \"factored characteristic polynomial.\""
]},
{"cell_type": "code", "collapsed": false, "input": ["E.fcp()\n"],
"language": "python", "metadata": {}, "outputs": [], "prompt_number": 5},
{"cell_type": "markdown", "metadata": {}, "source": [
"Finally a large example, illustrating how fast Sage is at making characteristic polynomials and at factoring."
]},
{"cell_type": "code", "collapsed": false, "input": ["F = block_diagonal_matrix( [random_matrix(QQ, 50), random_matrix(QQ, 50)])\nF.fcp()\n"],
"language": "python", "metadata": {}, "outputs": [], "prompt_number": 6},
{"cell_type": "markdown", "metadata": {}, "source": [
"Nothing short of amazing!"
]},
{"cell_type": "heading", "level": 2, "metadata": {}, "source": ["Numerical Matrices"]},
{"cell_type": "markdown", "metadata": {}, "source": [
"If we use `CDF` (Complex Double Field) for the number system of the entries of our matrix, we get (good) approximate values for eigenvalues.  (If we are OK with the approximate nature, these routines are very, very fast.)"
]},
{"cell_type": "code", "collapsed": false, "input": ["G = random_matrix(QQ, 300)\nH = G.change_ring(CDF)\nH.eigenvalues()\n"],
"language": "python", "metadata": {}, "outputs": [], "prompt_number": 1}],
"metadata": {}
}]}
