{
"metadata": {"name": "Demo: Section ILT"},
"nbformat": 3, "nbformat_minor": 0,
"worksheets": [{"cells": [
{"cell_type": "heading", "level": 1, "metadata": {}, "source": ["Demo: Section ILT"]},
{"cell_type": "code", "collapsed": false, "input": ["%load_ext sage.misc.sage_extension"], "language": "python", "metadata": {}, "outputs": [], "prompt_number": 0},
{"cell_type": "markdown", "metadata": {}, "source": [
"Robert Beezer",
"\n",
"Math 290, Fall 2013\n", "November 12, 2013"
]},
{"cell_type": "heading", "level": 2, "metadata": {}, "source": ["Injective Linear Transformations"]},
{"cell_type": "markdown", "metadata": {}, "source": [
"Two carefully-crafted linear transformations: `T` is injective, `S` is not."
]},
{"cell_type": "code", "collapsed": false, "input": ["A = matrix(QQ, [[1, 2, 2], [3, 7, 6], [1, 2, 1], [2, 5, 7]])\nT = linear_transformation(QQ^3, QQ^4, A, side='right')\n"],
"language": "python", "metadata": {}, "outputs": [], "prompt_number": 1},
{"cell_type": "code", "collapsed": false, "input": ["T.is_injective()\n"],
"language": "python", "metadata": {}, "outputs": [], "prompt_number": 2},
{"cell_type": "code", "collapsed": false, "input": ["T.kernel()\n"],
"language": "python", "metadata": {}, "outputs": [], "prompt_number": 3},
{"cell_type": "code", "collapsed": false, "input": ["B = matrix(QQ, [[0, 1, -2], [-1, 1, 3], [-2, 5, 0], [0, 2, -4]])\nS = linear_transformation(QQ^3, QQ^4, B, side='right')\n"],
"language": "python", "metadata": {}, "outputs": [], "prompt_number": 4},
{"cell_type": "code", "collapsed": false, "input": ["S.is_injective()\n"],
"language": "python", "metadata": {}, "outputs": [], "prompt_number": 5},
{"cell_type": "code", "collapsed": false, "input": ["K = S.kernel()\nK\n"],
"language": "python", "metadata": {}, "outputs": [], "prompt_number": 6},
{"cell_type": "markdown", "metadata": {}, "source": [
"We create two different inputs, which differ by a random vector from the kernel (which we hope is not simply the zero vector, a distinct possibility).  We always get the same output from `S`, predictably.  If we try this with `T` then the kernel vector is *always* the zero vector and the demonstration is very uninteresting."
]},
{"cell_type": "code", "collapsed": false, "input": ["z = K.random_element()\nu = random_vector(QQ, 3)\nw = u + z\nu, w, S(u), S(w), S(u) == S(w)\n"],
"language": "python", "metadata": {}, "outputs": [], "prompt_number": 7}],
"metadata": {}
}]}
