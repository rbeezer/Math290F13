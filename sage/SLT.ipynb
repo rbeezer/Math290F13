{
"metadata": {"name": "Demo: Section SLT"},
"nbformat": 3, "nbformat_minor": 0,
"worksheets": [{"cells": [
{"cell_type": "heading", "level": 1, "metadata": {}, "source": ["Demo: Section SLT"]},
{"cell_type": "code", "collapsed": false, "input": ["%load_ext sage.misc.sage_extension"], "language": "python", "metadata": {}, "outputs": [], "prompt_number": 0},
{"cell_type": "markdown", "metadata": {}, "source": [
"Robert Beezer",
"\n",
"Math 290, Fall 2013\n", "November 12, 2013"
]},
{"cell_type": "heading", "level": 2, "metadata": {}, "source": ["Surjective Linear Transformations"]},
{"cell_type": "markdown", "metadata": {}, "source": [
"Two carefully-crafted linear transformations: `T` is surjective, `S` is not."
]},
{"cell_type": "code", "collapsed": false, "input": ["A = matrix(QQ, [[2, 2, 5, -2], [2, 3, 1, -4], [-3, -4, -4, 5]])\nT = linear_transformation(QQ^4, QQ^3, A, side='right')\n"],
"language": "python", "metadata": {}, "outputs": [], "prompt_number": 1},
{"cell_type": "code", "collapsed": false, "input": ["T.is_surjective()\n"],
"language": "python", "metadata": {}, "outputs": [], "prompt_number": 2},
{"cell_type": "markdown", "metadata": {}, "source": [
"The range is known in Sage as the \"image.\"  For a surjective linear transformation, it will be the entire codomain.  Note that the image is a vector space."
]},
{"cell_type": "code", "collapsed": false, "input": ["T.image()\n"],
"language": "python", "metadata": {}, "outputs": [], "prompt_number": 3},
{"cell_type": "code", "collapsed": false, "input": ["T.image() == T.codomain()\n"],
"language": "python", "metadata": {}, "outputs": [], "prompt_number": 4},
{"cell_type": "code", "collapsed": false, "input": ["B = matrix(QQ, [[1, -2, 0, 3], [3, -5, 1, 7], [-1, 4, 2, -7]])\nS = linear_transformation(QQ^4, QQ^3, B, side='right')\n"],
"language": "python", "metadata": {}, "outputs": [], "prompt_number": 5},
{"cell_type": "code", "collapsed": false, "input": ["S.is_surjective()\n"],
"language": "python", "metadata": {}, "outputs": [], "prompt_number": 6},
{"cell_type": "code", "collapsed": false, "input": ["IM = S.image()\nIM\n"],
"language": "python", "metadata": {}, "outputs": [], "prompt_number": 7},
{"cell_type": "code", "collapsed": false, "input": ["IM == S.codomain()\n"],
"language": "python", "metadata": {}, "outputs": [], "prompt_number": 8},
{"cell_type": "heading", "level": 2, "metadata": {}, "source": ["Pre-Images"]},
{"cell_type": "markdown", "metadata": {}, "source": [
"We can create inputs associated with any output.  First, we make an arbitrary output, but make sure it really is an output, as a linear combination of a basis of the image (see basis above).  We print the two vectors in the opposite of what we would consider the \"normal\" order."
]},
{"cell_type": "code", "collapsed": false, "input": ["bas = IM.basis()\nout = ()*bas[0] + ()*bas[1]\ninp = S.preimage_representative(out)\nout, inp\n"],
"language": "python", "metadata": {}, "outputs": [], "prompt_number": 1},
{"cell_type": "markdown", "metadata": {}, "source": [
"A check on our work."
]},
{"cell_type": "code", "collapsed": false, "input": ["S(inp)\n"],
"language": "python", "metadata": {}, "outputs": [], "prompt_number": 2},
{"cell_type": "markdown", "metadata": {}, "source": [
"We can make other inputs, using the kernel."
]},
{"cell_type": "code", "collapsed": false, "input": ["K = S.kernel()\nK\n"],
"language": "python", "metadata": {}, "outputs": [], "prompt_number": 3},
{"cell_type": "markdown", "metadata": {}, "source": [
"Any value of `new_inp` is in the preimage of `out`, and every element of the preimage can be built this way.  Notice the role the kernel plays, much like in the worksheet about injective linear transformations."
]},
{"cell_type": "code", "collapsed": false, "input": ["z = K.random_element()\nnew_inp = inp + z\nnew_inp, S(new_inp)\n"],
"language": "python", "metadata": {}, "outputs": [], "prompt_number": 4},
{"cell_type": "markdown", "metadata": {}, "source": [
"Elements outside the range (image) will have empty preimages.  We mildly \"wreck\" an element of the range."
]},
{"cell_type": "code", "collapsed": false, "input": ["in_range = ()*bas[0] + ()*bas[1]\nin_range\n"],
"language": "python", "metadata": {}, "outputs": [], "prompt_number": 5},
{"cell_type": "markdown", "metadata": {}, "source": [
"With two initial entries determined by the zeros and ones in the basis vectors, the third entry must be determined, so we can \"twiddle\" it just a bit to obtain a vector of the codomain that lies outside the range.  We will ask Sage for a pre-image representative anyway and see what happens."
]},
{"cell_type": "code", "collapsed": false, "input": ["outside_range = vector(QQ, [ , , ])\nS.preimage_representative(outside_range)\n"],
"language": "python", "metadata": {}, "outputs": [], "prompt_number": 6}],
"metadata": {}
}]}
