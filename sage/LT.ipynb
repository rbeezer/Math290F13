{
"metadata": {"name": "Demo: Section LT"},
"nbformat": 3, "nbformat_minor": 0,
"worksheets": [{"cells": [
{"cell_type": "heading", "level": 1, "metadata": {}, "source": ["Demo: Section LT"]},
{"cell_type": "code", "collapsed": false, "input": ["%load_ext sage.misc.sage_extension"], "language": "python", "metadata": {}, "outputs": [], "prompt_number": 0},
{"cell_type": "markdown", "metadata": {}, "source": [
"Robert Beezer",
"\n",
"Math 290, Fall 2013\n", "November 10, 2013"
]},
{"cell_type": "markdown", "metadata": {}, "source": [
"Sage has very capable linear transformations from $\\mathbb{Q}^n$ to $\\mathbb{Q}^m$."
]},
{"cell_type": "heading", "level": 2, "metadata": {}, "source": ["Creation via Symbolic Functions"]},
{"cell_type": "markdown", "metadata": {}, "source": [
"Start with a symbolic function."
]},
{"cell_type": "code", "collapsed": false, "input": ["var('x1 x2 x3 x4')\nf(x1, x2, x3, x4) = (x1 + 2*x2 + x3 + 5*x4, x1 + 5*x2 + 4*x3 + 8*x4, -x2 - x3 - x4)\n"],
"language": "python", "metadata": {}, "outputs": [], "prompt_number": 1},
{"cell_type": "markdown", "metadata": {}, "source": [
"Then specify the domain and codomain.  We need to be careful about how `T` prints, Sage likes rows."
]},
{"cell_type": "code", "collapsed": false, "input": ["T = linear_transformation(QQ^4, QQ^3, f)\nT\n"],
"language": "python", "metadata": {}, "outputs": [], "prompt_number": 2},
{"cell_type": "markdown", "metadata": {}, "source": [
"At a most basic level, `T` behaves as a function."
]},
{"cell_type": "code", "collapsed": false, "input": ["u = random_vector(ZZ, x=-9, y=9).change_ring(QQ)\nT(u)\n"],
"language": "python", "metadata": {}, "outputs": [], "prompt_number": 3},
{"cell_type": "markdown", "metadata": {}, "source": [
"We can check Theorem LTTZZ, zero goes to zero."
]},
{"cell_type": "code", "collapsed": false, "input": ["z4 = zero_vector(QQ, 4)\nz3 = zero_vector(QQ, 3)\nT(z4); T(z4) == z3\n"],
"language": "python", "metadata": {}, "outputs": [], "prompt_number": 4},
{"cell_type": "heading", "level": 2, "metadata": {}, "source": ["Creation via Matrices"]},
{"cell_type": "markdown", "metadata": {}, "source": [
"We can also create a linear transformation from a matrix, as in Theorem MBLT, with one caveat.  For a matrix $A$, the default is to create the function $T(\\mathbf{v})=\\mathbf{v}A$.  The keywords option `side='right'` will indicate that we want to put the vector on the right of the matrix."
]},
{"cell_type": "code", "collapsed": false, "input": ["A = matrix(QQ, [[1, 2, 1, 5], [1, 5, 4, 8], [0, -1, -1, -1]])\nS = linear_transformation(A, side='right')\n"],
"language": "python", "metadata": {}, "outputs": [], "prompt_number": 1},
{"cell_type": "markdown", "metadata": {}, "source": [
"Notice that we do not have to specify the domain or codomain, these are inferred from the size and type of the matrix.  `S` is not new, it is exactly the linear transformation `T` above."
]},
{"cell_type": "code", "collapsed": false, "input": ["S == T\n"],
"language": "python", "metadata": {}, "outputs": [], "prompt_number": 2},
{"cell_type": "markdown", "metadata": {}, "source": [
"Again, notice how `S` prints  the matrix representation is the transpose of what we like to use.  This does not *change* the linear transformation as a function, it just changes how we think about it (we like linear combinations of columns, Sage likes linear combinations of rows)."
]},
{"cell_type": "code", "collapsed": false, "input": ["S\n"],
"language": "python", "metadata": {}, "outputs": [], "prompt_number": 3},
{"cell_type": "heading", "level": 2, "metadata": {}, "source": ["Creation via Values on a Basis"]},
{"cell_type": "markdown", "metadata": {}, "source": [
"Starting with a domain and a codomain, we can provide a list of the images of basis vectors for the domain."
]},
{"cell_type": "code", "collapsed": false, "input": ["v1 = vector(QQ, [1, 1, 0])\nv2 = vector(QQ, [2, 5, -1])\nv3 = vector(QQ, [1, 4, -1])\nv4 = vector(QQ, [5, 8, -1])\nR = linear_transformation(QQ^4, QQ^3, [v1, v2, v3, v4])\n"],
"language": "python", "metadata": {}, "outputs": [], "prompt_number": 1},
{"cell_type": "markdown", "metadata": {}, "source": [
"That's right  same function again."
]},
{"cell_type": "code", "collapsed": false, "input": ["R == T\n"],
"language": "python", "metadata": {}, "outputs": [], "prompt_number": 2},
{"cell_type": "markdown", "metadata": {}, "source": [
"We can check how this construction works."
]},
{"cell_type": "code", "collapsed": false, "input": ["d3 = R.domain().basis()[2]\nR(d3); R(d3) == v3\n"],
"language": "python", "metadata": {}, "outputs": [], "prompt_number": 3},
{"cell_type": "markdown", "metadata": {}, "source": [
"We can give the domain an alternate basis and create a different linear transformation, despite seemingly having the same construction.  First we build the domain with a different user basis."
]},
{"cell_type": "code", "collapsed": false, "input": ["u1 = vector(QQ, [1, 0, 0, 0])\nu2 = vector(QQ, [1, 1, 0, 0])\nu3 = vector(QQ, [1, 1, 1, 0])\nu4 = vector(QQ, [1, 1, 1, 1])\ndom4 = (QQ^4).subspace_with_basis([u1, u2, u3, u4])\ndom4\n"],
"language": "python", "metadata": {}, "outputs": [], "prompt_number": 4},
{"cell_type": "code", "collapsed": false, "input": ["L = linear_transformation(dom4, QQ^3, [v1, v2, v3, v4])\nL\n"],
"language": "python", "metadata": {}, "outputs": [], "prompt_number": 5},
{"cell_type": "markdown", "metadata": {}, "source": [
"Even though the matrix representation prints the same, this is not the same function, we will need ideas from Chapter R before we can understand the difference."
]},
{"cell_type": "code", "collapsed": false, "input": ["R(u3), L(u3)\n"],
"language": "python", "metadata": {}, "outputs": [], "prompt_number": 6},
{"cell_type": "markdown", "metadata": {}, "source": [
"This code should consistently return `False`."
]},
{"cell_type": "code", "collapsed": false, "input": ["v = random_vector(QQ, 4)\nR(v) == L(v)\n"],
"language": "python", "metadata": {}, "outputs": [], "prompt_number": 7},
{"cell_type": "heading", "level": 2, "metadata": {}, "source": ["Basic Properties"]},
{"cell_type": "markdown", "metadata": {}, "source": [
"Illustrations with `T`."
]},
{"cell_type": "code", "collapsed": false, "input": ["T.domain()\n"],
"language": "python", "metadata": {}, "outputs": [], "prompt_number": 1},
{"cell_type": "code", "collapsed": false, "input": ["T.codomain()\n"],
"language": "python", "metadata": {}, "outputs": [], "prompt_number": 2},
{"cell_type": "markdown", "metadata": {}, "source": [
"A defining property, so always `True`."
]},
{"cell_type": "code", "collapsed": false, "input": ["u = random_vector(QQ, 4)\nv = random_vector(QQ, 4)\nu, v, T(u+v) == T(u) + T(v)\n"],
"language": "python", "metadata": {}, "outputs": [], "prompt_number": 3},
{"cell_type": "markdown", "metadata": {}, "source": [
"A defining property, so also always `True`."
]},
{"cell_type": "code", "collapsed": false, "input": ["alpha = (QQ).random_element()\nu = random_vector(QQ, 4)\nalpha, u, T(alpha*u) == alpha*T(u)\n"],
"language": "python", "metadata": {}, "outputs": [], "prompt_number": 4},
{"cell_type": "markdown", "metadata": {}, "source": [
"We can do \"arithmetic\" with linear transformations, though the addition seems to allow bad things to happen."
]},
{"cell_type": "code", "collapsed": false, "input": ["R+S\n"],
"language": "python", "metadata": {}, "outputs": [], "prompt_number": 5},
{"cell_type": "markdown", "metadata": {}, "source": [
"Scalar multiples are possible, but only with the scalar on the left."
]},
{"cell_type": "code", "collapsed": false, "input": ["T*12\n"],
"language": "python", "metadata": {}, "outputs": [], "prompt_number": 6},
{"cell_type": "markdown", "metadata": {}, "source": [
"The following is wrong.  (In other words, there is a bug in Sage.)"
]},
{"cell_type": "code", "collapsed": false, "input": ["P = R + L\nP\n"],
"language": "python", "metadata": {}, "outputs": [], "prompt_number": 7},
{"cell_type": "markdown", "metadata": {}, "source": [
"As we can see"
]},
{"cell_type": "code", "collapsed": false, "input": ["Q = L+ R\nQ.is_equal_function(P)\n"],
"language": "python", "metadata": {}, "outputs": [], "prompt_number": 8},
{"cell_type": "markdown", "metadata": {}, "source": [
"The problem is that Sage is simply adding the matrices, without checking that they are defined using domains with the *same* basis.  We will understand the problem better in Chapter R."
]}],
"metadata": {}
}]}
