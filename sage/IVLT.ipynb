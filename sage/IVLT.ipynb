{
"metadata": {"name": "Demo: Section IVLT"},
"nbformat": 3, "nbformat_minor": 0,
"worksheets": [{"cells": [
{"cell_type": "heading", "level": 1, "metadata": {}, "source": ["Demo: Section IVLT"]},
{"cell_type": "code", "collapsed": false, "input": ["%load_ext sage.misc.sage_extension"], "language": "python", "metadata": {}, "outputs": [], "prompt_number": 0},
{"cell_type": "markdown", "metadata": {}, "source": [
"Robert Beezer",
"\n",
"Math 290, Fall 2013\n", "November 12, 2013"
]},
{"cell_type": "heading", "level": 2, "metadata": {}, "source": ["Invertible Linear Transformations"]},
{"cell_type": "markdown", "metadata": {}, "source": [
"A carefully-crafted invertible linear transformation from $\\mathbb{Q}^5$ to $\\mathbb{Q}^5$."
]},
{"cell_type": "code", "collapsed": false, "input": ["A = matrix(QQ, [[1, 1, -1, -2, 0], [-3, -2, 1, 4, 7],\n    [2, 2, -1, -3, -4], [-4, -3, 3, 8, 3], [5, 6, -7, -8, 8]])\nT = linear_transformation(QQ^5, QQ^5, A, side='right')\nT\n"],
"language": "python", "metadata": {}, "outputs": [], "prompt_number": 1},
{"cell_type": "code", "collapsed": false, "input": ["T.is_injective(), T.is_surjective()\n"],
"language": "python", "metadata": {}, "outputs": [], "prompt_number": 2},
{"cell_type": "code", "collapsed": false, "input": ["T.is_invertible()\n"],
"language": "python", "metadata": {}, "outputs": [], "prompt_number": 3},
{"cell_type": "code", "collapsed": false, "input": ["S = T.inverse()\nS\n"],
"language": "python", "metadata": {}, "outputs": [], "prompt_number": 4},
{"cell_type": "markdown", "metadata": {}, "source": [
"The `*` operator, like we would use for multiplication, will create a composition.  This will perfectly natural once we discuss Section MR.  Here, composing an invertible linear transformation with its inverse will yield an identity linear transformation."
]},
{"cell_type": "code", "collapsed": false, "input": ["comp = S*T\ncomp\n"],
"language": "python", "metadata": {}, "outputs": [], "prompt_number": 5},
{"cell_type": "code", "collapsed": false, "input": ["comp.is_identity()\n"],
"language": "python", "metadata": {}, "outputs": [], "prompt_number": 6},
{"cell_type": "heading", "level": 2, "metadata": {}, "source": ["Defining an Invertible Linear Transformation on Bases"]},
{"cell_type": "markdown", "metadata": {}, "source": [
"Now, an invertible linear transformation defined on a basis, and the resulting inverse linear transformation.  We get two \"random\" bases of $\\mathbb{Q}^7$ from nonsingular (determinant one) matrices."
]},
{"cell_type": "code", "collapsed": false, "input": ["C = random_matrix(QQ, 7, 7, algorithm='unimodular', upper_bound=99)\nCbasis = C.columns()\nD = random_matrix(QQ, 7, 7, algorithm='unimodular', upper_bound=99)\nDbasis = D.columns()\n"],
"language": "python", "metadata": {}, "outputs": [], "prompt_number": 1},
{"cell_type": "markdown", "metadata": {}, "source": [
"Vector spaces with defined user bases."
]},
{"cell_type": "code", "collapsed": false, "input": ["Cspace = (QQ^7).subspace_with_basis(Cbasis)\nDspace = (QQ^7).subspace_with_basis(Dbasis)\nCspace, Dspace\n"],
"language": "python", "metadata": {}, "outputs": [], "prompt_number": 2},
{"cell_type": "markdown", "metadata": {}, "source": [
"The invertible linear transformation defined with images as the vectors in the codomain basis `D`."
]},
{"cell_type": "code", "collapsed": false, "input": ["T = linear_transformation(Cspace, QQ^7, Dbasis)\nT\n"],
"language": "python", "metadata": {}, "outputs": [], "prompt_number": 3},
{"cell_type": "code", "collapsed": false, "input": ["T.is_invertible()\n"],
"language": "python", "metadata": {}, "outputs": [], "prompt_number": 4},
{"cell_type": "markdown", "metadata": {}, "source": [
"Now we simply \"turn around\" the definition, to make the inverse."
]},
{"cell_type": "code", "collapsed": false, "input": ["S = linear_transformation(Dspace, QQ^7, Cbasis)\nS\n"],
"language": "python", "metadata": {}, "outputs": [], "prompt_number": 5},
{"cell_type": "code", "collapsed": false, "input": ["S.is_invertible()\n"],
"language": "python", "metadata": {}, "outputs": [], "prompt_number": 6},
{"cell_type": "markdown", "metadata": {}, "source": [
"Composition with vector spaces using different bases does not seem to be working properly.  So we just check some random inputs to the composition."
]},
{"cell_type": "code", "collapsed": false, "input": ["comp = S*T\ncomp.is_identity()\n"],
"language": "python", "metadata": {}, "outputs": [], "prompt_number": 7},
{"cell_type": "code", "collapsed": false, "input": ["v = random_vector(QQ, 7)\nv, T(S(v)) == v, S(T(v)) == v\n"],
"language": "python", "metadata": {}, "outputs": [], "prompt_number": 8},
{"cell_type": "heading", "level": 2, "metadata": {}, "source": ["Rank and Nullity"]},
{"cell_type": "markdown", "metadata": {}, "source": [
"A general ( not invertible) linear transformation from $\\mathbb{Q}^6$ to $\\mathbb{Q}^5$."
]},
{"cell_type": "code", "collapsed": false, "input": ["F = matrix(QQ, [[1, 0, 2, -1, -4, 2], [-1, -1, -4, 3, 6, -5], [0, 1, 3, -2, -4, 5],\n    [0, 4, 6, -8, -4, 8], [0, 1, 2, -2, -2, 3]])\nR = linear_transformation(QQ^6, QQ^5, F, side='right')\nR\n"],
"language": "python", "metadata": {}, "outputs": [], "prompt_number": 1},
{"cell_type": "markdown", "metadata": {}, "source": [
"Rank is dimension of range (image).  Note there are not left/right variants."
]},
{"cell_type": "code", "collapsed": false, "input": ["R.image()\n"],
"language": "python", "metadata": {}, "outputs": [], "prompt_number": 2},
{"cell_type": "code", "collapsed": false, "input": ["R.rank()\n"],
"language": "python", "metadata": {}, "outputs": [], "prompt_number": 3},
{"cell_type": "markdown", "metadata": {}, "source": [
"Nullity is dimension of kernel.  Note there are not left/right variants."
]},
{"cell_type": "code", "collapsed": false, "input": ["R.kernel()\n"],
"language": "python", "metadata": {}, "outputs": [], "prompt_number": 4},
{"cell_type": "code", "collapsed": false, "input": ["R.nullity()\n"],
"language": "python", "metadata": {}, "outputs": [], "prompt_number": 5},
{"cell_type": "markdown", "metadata": {}, "source": [
"Note that rank and nullity sum to the dimension of the domain (which is $6$ here)."
]}],
"metadata": {}
}]}
