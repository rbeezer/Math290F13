{
 "metadata": {
  "name": ""
 },
 "nbformat": 3,
 "nbformat_minor": 0,
 "worksheets": [
  {
   "cells": [
    {
     "cell_type": "heading",
     "level": 1,
     "metadata": {},
     "source": [
      "Demo: Section SD"
     ]
    },
    {
     "cell_type": "code",
     "collapsed": false,
     "input": [
      "%load_ext sage.misc.sage_extension"
     ],
     "language": "python",
     "metadata": {},
     "outputs": [],
     "prompt_number": 1
    },
    {
     "cell_type": "markdown",
     "metadata": {},
     "source": [
      "Robert Beezer\n",
      "\n",
      "\n",
      "Math 290, Fall 2013\n",
      "\n",
      "November 3, 2013"
     ]
    },
    {
     "cell_type": "heading",
     "level": 2,
     "metadata": {},
     "source": [
      "Similarity"
     ]
    },
    {
     "cell_type": "markdown",
     "metadata": {},
     "source": [
      "We manufacture two matrices that are similar, and use Sage to check.  A \"unimodular\" matrix is one with determinant 1.  A unimodular matrix with integer entries will have an inverse with integer entries (that is a theorem)."
     ]
    },
    {
     "cell_type": "code",
     "collapsed": false,
     "input": [
      "A = random_matrix(ZZ, 10, x = -9, y = 9).change_ring(QQ)\n",
      "S = random_matrix(QQ, 10, algorithm='unimodular', upper_bound=9)\n",
      "B = S.inverse()*A*S\n",
      "A, B\n"
     ],
     "language": "python",
     "metadata": {},
     "outputs": [
      {
       "metadata": {},
       "output_type": "pyout",
       "prompt_number": 2,
       "text": [
        "(\n",
        "[ 7  6  7 -6  5  3 -1 -1 -4  7]  [  11944   17063   -5153   -3049  -18330  -24013    5438  -27892  -23087  -17106]\n",
        "[ 3  3 -1 -3  2  2 -9 -9  7 -4]  [  10142   14852   -4529   -2784  -15994  -20866    4430  -24195  -20106  -14698]\n",
        "[ 3  8  2  2  1  0  6 -3 -4 -7]  [ -24098  -35009   10706    6510   37710   49280  -10638   57090   47288   34755]\n",
        "[ 0 -5  3  0 -5  5 -5 -4  1 -4]  [  44107   63921  -19450  -11782  -68787  -89884   19597 -104245  -86540  -63414]\n",
        "[ 0 -7  0  7  0  1  2 -9  5  2]  [  -7260  -10719    3251    2026   11532   14971   -3134   17390   14690   10386]\n",
        "[ 2 -3  7 -7 -9  1 -3  7  8 -2]  [  30593   44453  -13543   -8244  -47854  -62465   13518  -72444  -60263  -43967]\n",
        "[-7  0  7 -7  1  0  5 -8  1  4]  [ -23254  -33439   10144    6066   35962   47058  -10465   54607   45241   33375]\n",
        "[-1  0 -8 -8  5 -1  5 -6 -2 -7]  [ -32939  -47666   14516    8785   51305   67036  -14651   77743   64538   47288]\n",
        "[ 5 -7  2 -7 -9 -9  6  2 -6  3]  [  13127   19054   -5796   -3523  -20505  -26769    5814  -31057  -25833  -18865]\n",
        "[ 6  2  6  4 -6 -5 -5  8  1  8], [  11284   16335   -4971   -3008  -17580  -22974    5020  -26646  -22112  -16218]\n",
        ")"
       ]
      }
     ],
     "prompt_number": 2
    },
    {
     "cell_type": "markdown",
     "metadata": {},
     "source": [
      "This command seems to be broken.  My fault."
     ]
    },
    {
     "cell_type": "code",
     "collapsed": false,
     "input": [
      "A.is_similar(B)\n"
     ],
     "language": "python",
     "metadata": {},
     "outputs": [],
     "prompt_number": 2
    },
    {
     "cell_type": "heading",
     "level": 2,
     "metadata": {},
     "source": [
      "Diagonalization"
     ]
    },
    {
     "cell_type": "markdown",
     "metadata": {},
     "source": [
      "These two matrices are from the earlier demo for Section EE.  First is diagonalizable, second is not.  The easiest way to see the difference is with the `eigenmatrix` commands."
     ]
    },
    {
     "cell_type": "code",
     "collapsed": false,
     "input": [
      "entries = [[-31, -23, -16, 12, 120, -17], [-3, 7, 0, -12, 60, -21], [-28, -14, -9,\n",
      "-4, 152, -30], [-36, -20, -16, -1, 192, -32], [-9, -5, -4, 0, 47, -8],\n",
      "[-1, 1, 0, -4, 20, -3]]\n",
      "A = matrix(QQ, entries)\n",
      "A\n"
     ],
     "language": "python",
     "metadata": {},
     "outputs": [
      {
       "metadata": {},
       "output_type": "pyout",
       "prompt_number": 3,
       "text": [
        "[-31 -23 -16  12 120 -17]\n",
        "[ -3   7   0 -12  60 -21]\n",
        "[-28 -14  -9  -4 152 -30]\n",
        "[-36 -20 -16  -1 192 -32]\n",
        "[ -9  -5  -4   0  47  -8]\n",
        "[ -1   1   0  -4  20  -3]"
       ]
      }
     ],
     "prompt_number": 3
    },
    {
     "cell_type": "markdown",
     "metadata": {},
     "source": [
      "`S`, the matrix whose columns are eigenvectors, will \"diagonalize\" `A`."
     ]
    },
    {
     "cell_type": "code",
     "collapsed": false,
     "input": [
      "D, S = A.eigenmatrix_right()\n",
      "D, S\n"
     ],
     "language": "python",
     "metadata": {},
     "outputs": [
      {
       "metadata": {},
       "output_type": "pyout",
       "prompt_number": 4,
       "text": [
        "(\n",
        "[ 4  0  0  0  0  0]  [    1     1     1     0     1     0]\n",
        "[ 0  2  0  0  0  0]  [ -4/7 -3/14     0     1     0     1]\n",
        "[ 0  0  3  0  0  0]  [  2/7   4/7   1/2   5/6   3/4 13/12]\n",
        "[ 0  0  0  3  0  0]  [  4/7   6/7     1     1     1   4/3]\n",
        "[ 0  0  0  0 -1  0]  [  1/7  3/14   1/4   1/4   1/4   1/4]\n",
        "[ 0  0  0  0  0 -1], [ -1/7 -1/14     0   1/3     0   1/3]\n",
        ")"
       ]
      }
     ],
     "prompt_number": 4
    },
    {
     "cell_type": "code",
     "collapsed": false,
     "input": [
      "S.inverse()*A*S == D\n"
     ],
     "language": "python",
     "metadata": {},
     "outputs": [
      {
       "metadata": {},
       "output_type": "pyout",
       "prompt_number": 5,
       "text": [
        "True"
       ]
      }
     ],
     "prompt_number": 5
    },
    {
     "cell_type": "markdown",
     "metadata": {},
     "source": [
      "Here is an equivalent formulation."
     ]
    },
    {
     "cell_type": "code",
     "collapsed": false,
     "input": [
      "A*S == S*D\n"
     ],
     "language": "python",
     "metadata": {},
     "outputs": [
      {
       "metadata": {},
       "output_type": "pyout",
       "prompt_number": 6,
       "text": [
        "True"
       ]
      }
     ],
     "prompt_number": 6
    },
    {
     "cell_type": "markdown",
     "metadata": {},
     "source": [
      "Now, in contrast, a matrix that is not diagonalizable."
     ]
    },
    {
     "cell_type": "code",
     "collapsed": false,
     "input": [
      "entries = [[128, 20, 44, -50, 236, -18, -330, -565], [-23, -16, -5, 6, -40, 27, 62, 128], [-44, -12, -15, 16, -78, 20, 110, 207], [-2, 10, -4, 3, -10, -23, 20, -9], [-61, 5, -25, 27, -116, -26, 153, 225], [-12, -12, -1, 2, -20, 24, 34, 82], [-23, -3, -8, 9, -42, 2, 57, 99], [13, 6, 3, -4, 23, -12, -35, -72]]\n",
      "C = matrix(QQ, entries)\n",
      "C\n"
     ],
     "language": "python",
     "metadata": {},
     "outputs": [
      {
       "metadata": {},
       "output_type": "pyout",
       "prompt_number": 7,
       "text": [
        "[ 128   20   44  -50  236  -18 -330 -565]\n",
        "[ -23  -16   -5    6  -40   27   62  128]\n",
        "[ -44  -12  -15   16  -78   20  110  207]\n",
        "[  -2   10   -4    3  -10  -23   20   -9]\n",
        "[ -61    5  -25   27 -116  -26  153  225]\n",
        "[ -12  -12   -1    2  -20   24   34   82]\n",
        "[ -23   -3   -8    9  -42    2   57   99]\n",
        "[  13    6    3   -4   23  -12  -35  -72]"
       ]
      }
     ],
     "prompt_number": 7
    },
    {
     "cell_type": "code",
     "collapsed": false,
     "input": [
      "D, S = C.eigenmatrix_right()\n",
      "D, S\n"
     ],
     "language": "python",
     "metadata": {},
     "outputs": [
      {
       "metadata": {},
       "output_type": "pyout",
       "prompt_number": 8,
       "text": [
        "(\n",
        "[ 1  0  0  0  0  0  0  0]\n",
        "[ 0  1  0  0  0  0  0  0]\n",
        "[ 0  0  1  0  0  0  0  0]\n",
        "[ 0  0  0 -2  0  0  0  0]\n",
        "[ 0  0  0  0 -2  0  0  0]\n",
        "[ 0  0  0  0  0 -2  0  0]\n",
        "[ 0  0  0  0  0  0 -2  0]\n",
        "[ 0  0  0  0  0  0  0 -2],\n",
        "\n",
        "[     1      0      0      1      0      0      0      0]\n",
        "[ -3/25      0      0      0      1      0      0      0]\n",
        "[ -8/25      0      0 -12/31  -2/31      0      0      0]\n",
        "[ -1/25      0      0  -3/31 -16/31      0      0      0]\n",
        "[-27/50      0      0 -19/31 -29/31      0      0      0]\n",
        "[ -1/25      0      0   1/31  26/31      0      0      0]\n",
        "[ -9/50      0      0  -6/31  -1/31      0      0      0]\n",
        "[  2/25      0      0   2/31 -10/31      0      0      0]\n",
        ")"
       ]
      }
     ],
     "prompt_number": 8
    },
    {
     "cell_type": "markdown",
     "metadata": {},
     "source": [
      "The zero columns in `S` tell us that at least one eigenvalue has a geometric multiplicity strictly less than the algebraic multiplicity of the eigenvalue.  So by Theorem DMFE the matrix `C` is not diagonalizable."
     ]
    },
    {
     "cell_type": "markdown",
     "metadata": {},
     "source": [
      "A second consequence of the zero columns of `S` is that it will not be an invertible matrix.  But the output from Sage still obeys a fundamental relationship."
     ]
    },
    {
     "cell_type": "code",
     "collapsed": false,
     "input": [
      "C*S == S*D\n"
     ],
     "language": "python",
     "metadata": {},
     "outputs": [
      {
       "metadata": {},
       "output_type": "pyout",
       "prompt_number": 9,
       "text": [
        "True"
       ]
      }
     ],
     "prompt_number": 9
    },
    {
     "cell_type": "markdown",
     "metadata": {},
     "source": [
      "Perhaps simpler is the built-in function `.is_diagonalizable()`."
     ]
    },
    {
     "cell_type": "code",
     "collapsed": false,
     "input": [
      "A.is_diagonalizable()\n"
     ],
     "language": "python",
     "metadata": {},
     "outputs": [
      {
       "metadata": {},
       "output_type": "pyout",
       "prompt_number": 10,
       "text": [
        "True"
       ]
      }
     ],
     "prompt_number": 10
    },
    {
     "cell_type": "code",
     "collapsed": false,
     "input": [
      "C.is_diagonalizable()\n"
     ],
     "language": "python",
     "metadata": {},
     "outputs": [
      {
       "metadata": {},
       "output_type": "pyout",
       "prompt_number": 11,
       "text": [
        "False"
       ]
      }
     ],
     "prompt_number": 11
    },
    {
     "cell_type": "heading",
     "level": 2,
     "metadata": {},
     "source": [
      "Nearly Diagonalizable"
     ]
    },
    {
     "cell_type": "markdown",
     "metadata": {},
     "source": [
      "A matrix that is not diagonalizable will always be similar to a matrix that is \textbf{almost} diagonalizable.  The \"nearly diagonal\" matrix is called the Jordan Canonical Form of the matrix.  While beyond the scope of this course, here is Sage computing this canonical form for the matrix `C`.  Notice the eigenvalues of `C` on the diagonal and the 1's on the \"super-diagonal\"."
     ]
    },
    {
     "cell_type": "code",
     "collapsed": false,
     "input": [
      "J, T = C.jordan_form(transformation=True)\n",
      "J, T\n"
     ],
     "language": "python",
     "metadata": {},
     "outputs": [
      {
       "metadata": {},
       "output_type": "pyout",
       "prompt_number": 12,
       "text": [
        "(\n",
        "[ 1  1  0| 0  0  0| 0  0]\n",
        "[ 0  1  1| 0  0  0| 0  0]\n",
        "[ 0  0  1| 0  0  0| 0  0]\n",
        "[--------+--------+-----]\n",
        "[ 0  0  0|-2  1  0| 0  0]\n",
        "[ 0  0  0| 0 -2  1| 0  0]\n",
        "[ 0  0  0| 0  0 -2| 0  0]\n",
        "[--------+--------+-----]\n",
        "[ 0  0  0| 0  0  0|-2  1]\n",
        "[ 0  0  0| 0  0  0| 0 -2],\n",
        "\n",
        "[  75/32 -125/16       1      11 -173/11       1   42/11       1]\n",
        "[  -9/32   15/16       0      -4  258/55       0  -51/55       0]\n",
        "[   -3/4     5/2  -17/64      -4  359/55       0  -78/55       0]\n",
        "[  -3/32   17/64       0       1    2/55       0    6/55       0]\n",
        "[ -81/64  135/32  -45/64      -3  248/55       0  -81/55      -1]\n",
        "[  -3/32    5/16    5/64      -3  208/55   -3/11  -36/55    2/11]\n",
        "[ -27/64   45/32   -3/16      -2  152/55   -4/55  -39/55  -12/55]\n",
        "[   3/16    -5/8    1/32       2  -31/11   17/55    6/11   -4/55]\n",
        ")"
       ]
      }
     ],
     "prompt_number": 12
    },
    {
     "cell_type": "markdown",
     "metadata": {},
     "source": [
      "The transformation matrix, `T`, is invertible and will \"almost diagonalize\" `C`."
     ]
    },
    {
     "cell_type": "code",
     "collapsed": false,
     "input": [
      "T.inverse()*C*T == J\n"
     ],
     "language": "python",
     "metadata": {},
     "outputs": [
      {
       "metadata": {},
       "output_type": "pyout",
       "prompt_number": 13,
       "text": [
        "True"
       ]
      }
     ],
     "prompt_number": 13
    },
    {
     "cell_type": "markdown",
     "metadata": {},
     "source": [
      "Rational Canonical Form is another interesting version of this idea, try `.rational_form()` on `C`.  And if you do, then execute the following two cells and see if the coefficients look familiar.  (Learn more about \"companion matrices\" if this makes you curious."
     ]
    },
    {
     "cell_type": "code",
     "collapsed": false,
     "input": [
      "C.rational_form()\n"
     ],
     "language": "python",
     "metadata": {},
     "outputs": [
      {
       "metadata": {},
       "output_type": "pyout",
       "prompt_number": 14,
       "text": [
        "[  0  -4|  0   0   0   0   0   0]\n",
        "[  1  -4|  0   0   0   0   0   0]\n",
        "[-------+-----------------------]\n",
        "[  0   0|  0   0   0   0   0   8]\n",
        "[  0   0|  1   0   0   0   0 -12]\n",
        "[  0   0|  0   1   0   0   0  -6]\n",
        "[  0   0|  0   0   1   0   0  11]\n",
        "[  0   0|  0   0   0   1   0   3]\n",
        "[  0   0|  0   0   0   0   1  -3]"
       ]
      }
     ],
     "prompt_number": 14
    },
    {
     "cell_type": "code",
     "collapsed": false,
     "input": [
      "C.fcp()\n"
     ],
     "language": "python",
     "metadata": {},
     "outputs": [
      {
       "metadata": {},
       "output_type": "pyout",
       "prompt_number": 15,
       "text": [
        "(x - 1)^3 * (x + 2)^5"
       ]
      }
     ],
     "prompt_number": 15
    },
    {
     "cell_type": "code",
     "collapsed": false,
     "input": [
      "((x-1)^3*(x+2)^3).expand()\n"
     ],
     "language": "python",
     "metadata": {},
     "outputs": [
      {
       "metadata": {},
       "output_type": "pyout",
       "prompt_number": 16,
       "text": [
        "x^6 + 3*x^5 - 3*x^4 - 11*x^3 + 6*x^2 + 12*x - 8"
       ]
      }
     ],
     "prompt_number": 16
    },
    {
     "cell_type": "code",
     "collapsed": false,
     "input": [],
     "language": "python",
     "metadata": {},
     "outputs": []
    }
   ],
   "metadata": {}
  }
 ]
}