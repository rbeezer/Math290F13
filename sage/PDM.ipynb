{
"metadata": {"name": "Demo: Section B"},
"nbformat": 3, "nbformat_minor": 0,
"worksheets": [{"cells": [
{"cell_type": "heading", "level": 1, "metadata": {}, "source": ["Demo: Section B"]},
{"cell_type": "code", "collapsed": false, "input": ["%load_ext sage.misc.sage_extension"], "language": "python", "metadata": {}, "outputs": [], "prompt_number": 0},
{"cell_type": "markdown", "metadata": {}, "source": [
"Robert Beezer",
"\n",
"Math 290, Fall 2013\n", "November 3, 2013"
]},
{"cell_type": "heading", "level": 2, "metadata": {}, "source": ["LU Decomposition, Triangular Form"]},
{"cell_type": "markdown", "metadata": {}, "source": [
"This is a topic not covered in the text.  You *can* find a discussion in the preliminary materials that will form a second volume of FCLA."
]},
{"cell_type": "markdown", "metadata": {}, "source": [
"Our goal is to row-reduce a matrix with elementary matrices, track the changes, and arrive at an expression for a square matrix $A$ as a product of a lower-triangular matrix, $L$, and an upper-triangular matrix, $U$, that is \\begin{equation}A=LU\\end{equation} the so-called \"LU\" decomposition.  I prefer to call it \"triangular form.\""
]},
{"cell_type": "code", "collapsed": false, "input": ["entries = [[-6, -10, 0, 10, 14],\n[2, 3, 0, -4, -3],\n[0, -2, -3, 1, 8],\n[5, 6, -3, -7, -3],\n[-1, 1, 6, -1, -8]]\nA = matrix(QQ, entries)\nA\n"],
"language": "python", "metadata": {}, "outputs": [], "prompt_number": 1},
{"cell_type": "markdown", "metadata": {}, "source": [
"Elementary matrices to \"do\" row operations in first column."
]},
{"cell_type": "code", "collapsed": false, "input": ["actionA = elementary_matrix(QQ, 5, row1=1, row2=0, scale=-2)*elementary_matrix(QQ, 5, row1=3, row2=0, scale=-5)*elementary_matrix(QQ, 5, row1=4, row2=0, scale=1)*elementary_matrix(QQ, 5, row1=0, scale=-1/6)\nB = actionA*A\nB\n"],
"language": "python", "metadata": {}, "outputs": [], "prompt_number": 2},
{"cell_type": "markdown", "metadata": {}, "source": [
"Now in second column, moving to \"row-echelon form\" (i.e. not \"reduced\")."
]},
{"cell_type": "code", "collapsed": false, "input": ["actionB = elementary_matrix(QQ, 5, row1=2, row2=1, scale=2)*elementary_matrix(QQ, 5, row1=3, row2=1, scale=7/3)*elementary_matrix(QQ, 5, row1=4, row2=1, scale=-8/3)*elementary_matrix(QQ, 5, row1=1, scale=-3)\nC = actionB*B\nC\n"],
"language": "python", "metadata": {}, "outputs": [], "prompt_number": 3},
{"cell_type": "code", "collapsed": false, "input": ["actionC = elementary_matrix(QQ, 5, row1=3, row2=2, scale=3)*elementary_matrix(QQ, 5, row1=4, row2=2, scale=-6)*elementary_matrix(QQ, 5, row1=2, scale=-1/3)\nD = actionC*C\nD\n"],
"language": "python", "metadata": {}, "outputs": [], "prompt_number": 4},
{"cell_type": "markdown", "metadata": {}, "source": [
"And now the penultimate column."
]},
{"cell_type": "code", "collapsed": false, "input": ["actionD = elementary_matrix(QQ, 5, row1=4, row2=3, scale=-2)*elementary_matrix(QQ, 5, row1=3, scale=1)\nE = actionD*D\nE\n"],
"language": "python", "metadata": {}, "outputs": [], "prompt_number": 5},
{"cell_type": "markdown", "metadata": {}, "source": [
"And done."
]},
{"cell_type": "code", "collapsed": false, "input": ["actionE = elementary_matrix(QQ, 5, row1=4, scale=1)\nF = actionE*E\nF\n"],
"language": "python", "metadata": {}, "outputs": [], "prompt_number": 6},
{"cell_type": "markdown", "metadata": {}, "source": [
"Clearly, $F$ has determinant 1.  By virtue of the above manipulations (row operations) we expect that \\begin{equation}\\det(A) = \\left(\\frac{1}{-1/6}\\right)\\left(\\frac{1}{-3}\\right)\\left(\\frac{1}{-1/3}\\right)\\left(\\frac{1}{1}\\right)\\left(\\frac{1}{1}\\right)\\det(F) = -6.\\end{equation} Let's check."
]},
{"cell_type": "code", "collapsed": false, "input": ["A.determinant()\n"],
"language": "python", "metadata": {}, "outputs": [], "prompt_number": 7},
{"cell_type": "markdown", "metadata": {}, "source": [
"Yep.  But it gets better.  $F$ is the product of the \"action\" matrices on the left of $A$."
]},
{"cell_type": "code", "collapsed": false, "input": ["total_action = prod([actionE, actionD, actionC, actionB, actionA])\ntotal_action\n"],
"language": "python", "metadata": {}, "outputs": [], "prompt_number": 8},
{"cell_type": "markdown", "metadata": {}, "source": [
"Notice that the elementary matrices we used are all lower triangular (because we just created zeros below the diagonal, no row swaps), and so their product is lower triangular.  Now check that we have the correct matrix."
]},
{"cell_type": "code", "collapsed": false, "input": ["F == total_action * A\n"],
"language": "python", "metadata": {}, "outputs": [], "prompt_number": 9},
{"cell_type": "markdown", "metadata": {}, "source": [
"The \"total action\" matrix is a product of elementary matrices, which are individually nonsingular.  So the product is nonsingular.  Futhermore, the inverse is again lower triangular."
]},
{"cell_type": "code", "collapsed": false, "input": ["ta_inv = total_action.inverse()\nta_inv\n"],
"language": "python", "metadata": {}, "outputs": [], "prompt_number": 10},
{"cell_type": "markdown", "metadata": {}, "source": [
"We reach our goal by rearranging the equality above, writing $A$ as a product of a lower-triangular matrix with an upper-triangular matrix,"
]},
{"cell_type": "code", "collapsed": false, "input": ["A == ta_inv * F\n"],
"language": "python", "metadata": {}, "outputs": [], "prompt_number": 11},
{"cell_type": "markdown", "metadata": {}, "source": [
"Yes.  So we have decomposed the original matrix ($A$) into the product of a lower triangular matrix (inverse of the total action matrix) and an upper triangular matrix with all ones on the diagonal ($F$, the row-echelon matrix)."
]},
{"cell_type": "code", "collapsed": false, "input": ["A, ta_inv, F\n"],
"language": "python", "metadata": {}, "outputs": [], "prompt_number": 12},
{"cell_type": "markdown", "metadata": {}, "source": [
"This decomposition (an \"LU decomposition\") can be useful for solving systems quickly.  You \"back solve\" with one matrix, then \"forward solve\" with the other."
]}],
"metadata": {}
}]}
